{
 "cells": [
  {
   "cell_type": "code",
   "execution_count": 8,
   "id": "61092293",
   "metadata": {},
   "outputs": [],
   "source": [
    "from sklearn.metrics.pairwise import cosine_similarity\n",
    "from sklearn.preprocessing import StandardScaler\n",
    "import pandas as pd\n",
    "\n",
    "# Load data\n",
    "customers = pd.read_csv('Customers.csv')\n",
    "transactions = pd.read_csv('Transactions.csv')\n",
    "products = pd.read_csv('Products.csv')\n",
    "\n",
    "# Feature Engineering\n",
    "customer_features = customers[['Region']]\n",
    "transaction_summary = transactions.groupby('CustomerID').agg({\n",
    "    'TotalValue': 'sum',\n",
    "    'Quantity': 'sum',\n",
    "    'Price': 'mean'\n",
    "}).reset_index()\n",
    "\n",
    "# Merge customer data with transaction summary\n",
    "merged_data = pd.merge(customers, transaction_summary, on='CustomerID', how='left')\n",
    "\n",
    "# Check for NaN or infinite values and handle them\n",
    "# Replace infinities with NaN\n",
    "merged_data.replace([float('inf'), -float('inf')], float('nan'), inplace=True)\n",
    "\n",
    "# Drop rows with NaN values or fill them\n",
    "merged_data = merged_data.fillna(0)  # or merged_data.dropna() to drop rows\n",
    "\n",
    "# Normalize numerical features\n",
    "scaler = StandardScaler()\n",
    "normalized_features = scaler.fit_transform(merged_data[['TotalValue', 'Quantity', 'Price']])\n",
    "\n",
    "# Compute Cosine Similarity\n",
    "cosine_sim = cosine_similarity(normalized_features)\n",
    "\n",
    "# Get Top 3 Lookalikes for the first 20 customers\n",
    "lookalikes = {}\n",
    "for i in range(20):\n",
    "    similarity_scores = list(enumerate(cosine_sim[i]))\n",
    "    similarity_scores = sorted(similarity_scores, key=lambda x: x[1], reverse=True)\n",
    "    \n",
    "    # Ensure we're only capturing the customer ID and similarity score\n",
    "    top_3_similar_customers = [(merged_data.iloc[x[0]]['CustomerID'], x[1]) for x in similarity_scores[1:4]]\n",
    "    \n",
    "    # Save the lookalike data with CustomerID as the key\n",
    "    lookalikes[merged_data.iloc[i]['CustomerID']] = top_3_similar_customers\n",
    "\n",
    "# Flatten the lookalike data into a list of tuples for each customer\n",
    "flattened_lookalikes = []\n",
    "for customer_id, lookalike_list in lookalikes.items():\n",
    "    for lookalike in lookalike_list:\n",
    "        flattened_lookalikes.append([customer_id, lookalike[0], lookalike[1]])\n",
    "\n",
    "# Create DataFrame for lookalikes\n",
    "lookalike_df = pd.DataFrame(flattened_lookalikes, columns=['CustomerID', 'Lookalike CustomerID', 'Similarity Score'])\n",
    "\n",
    "# Save to CSV\n",
    "lookalike_df.to_csv('Lookalike.csv', index=False)\n"
   ]
  },
  {
   "cell_type": "code",
   "execution_count": 7,
   "id": "2ea0ba87",
   "metadata": {},
   "outputs": [],
   "source": []
  },
  {
   "cell_type": "code",
   "execution_count": null,
   "id": "fdecde4c",
   "metadata": {},
   "outputs": [],
   "source": []
  }
 ],
 "metadata": {
  "kernelspec": {
   "display_name": "Python 3 (ipykernel)",
   "language": "python",
   "name": "python3"
  },
  "language_info": {
   "codemirror_mode": {
    "name": "ipython",
    "version": 3
   },
   "file_extension": ".py",
   "mimetype": "text/x-python",
   "name": "python",
   "nbconvert_exporter": "python",
   "pygments_lexer": "ipython3",
   "version": "3.9.13"
  }
 },
 "nbformat": 4,
 "nbformat_minor": 5
}
